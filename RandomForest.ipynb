{
  "nbformat": 4,
  "nbformat_minor": 0,
  "metadata": {
    "colab": {
      "provenance": []
    },
    "kernelspec": {
      "name": "python3",
      "display_name": "Python 3"
    },
    "language_info": {
      "name": "python"
    }
  },
  "cells": [
    {
      "cell_type": "code",
      "execution_count": 23,
      "metadata": {
        "id": "tvPCb0rjXoNi"
      },
      "outputs": [],
      "source": [
        "import numpy as np\n",
        "from collections import Counter\n",
        "from sklearn.tree import DecisionTreeClassifier\n",
        "class RandomForest:\n",
        "  def __init__(self, n_trees, n_leafes= None, min_samples_split = 2):\n",
        "    self.n_trees = n_trees\n",
        "    self.n_leafes = n_leafes\n",
        "    self.min_samples_split = min_samples_split\n",
        "    self.trees = []\n",
        "\n",
        "  def fit(self, X, y):\n",
        "    for _ in range(self.n_trees):\n",
        "       X_sample, y_sample = self._bootstrap_sample(X, y)\n",
        "       tree = DecisionTreeClassifier(max_depth = self.n_leafes, min_samples_split = self.min_samples_split)\n",
        "       tree.fit(X_sample, y_sample)\n",
        "       self.trees.append(tree)\n",
        "  def predict(self, X):\n",
        "    tree_preds =  np.array([tree.predict(X) for tree in self.trees])\n",
        "    y_pred = [self._majority_vote(tree_preds[:,i]) for i in range(X.shape[0])]\n",
        "    return  np.array(y_pred)\n",
        "  def _majority_vote(self, predictions):\n",
        "        count = Counter(predictions)\n",
        "        return count.most_common(1)[0][0]\n",
        "  def _bootstrap_sample(self, X, y):\n",
        "    n_samples = X.shape[0]\n",
        "    indices = np.random.choice(n_samples, size = n_samples, replace = True)\n",
        "    return X[indices], y[indices]"
      ]
    },
    {
      "cell_type": "code",
      "source": [
        "from sklearn.datasets import load_iris\n",
        "from sklearn.model_selection import train_test_split\n",
        "from sklearn.tree import DecisionTreeClassifier\n",
        "iris = load_iris()\n",
        "X_train, X_test, y_train, y_test = train_test_split(iris['data'], iris['target'], test_size=0.33  , random_state = 122)\n",
        "X_train.shape"
      ],
      "metadata": {
        "colab": {
          "base_uri": "https://localhost:8080/"
        },
        "id": "6wn4iPLFbzdp",
        "outputId": "02a17bde-a88c-4efe-fcb4-8dd2f724c06f"
      },
      "execution_count": 24,
      "outputs": [
        {
          "output_type": "execute_result",
          "data": {
            "text/plain": [
              "(100, 4)"
            ]
          },
          "metadata": {},
          "execution_count": 24
        }
      ]
    },
    {
      "cell_type": "code",
      "source": [
        "rf = RandomForest(100, 16)\n",
        "rf.fit(X_train, y_train)"
      ],
      "metadata": {
        "id": "9kXAvLkfdobL"
      },
      "execution_count": 25,
      "outputs": []
    },
    {
      "cell_type": "code",
      "source": [
        "y_pred_rf = rf.predict(X_test)\n",
        "print(y_pred_rf)"
      ],
      "metadata": {
        "colab": {
          "base_uri": "https://localhost:8080/"
        },
        "id": "dykuShMeehh0",
        "outputId": "b3e36b73-7d4c-4d13-ede1-6ccc47aa1f30"
      },
      "execution_count": 26,
      "outputs": [
        {
          "output_type": "stream",
          "name": "stdout",
          "text": [
            "[0 2 1 1 2 0 2 0 2 1 2 2 0 2 0 2 2 1 1 1 2 1 1 0 2 1 0 0 1 2 0 1 1 1 2 0 2\n",
            " 1 2 0 2 0 2 0 1 2 0 1 2 0]\n"
          ]
        }
      ]
    },
    {
      "cell_type": "code",
      "source": [
        "from sklearn.metrics import confusion_matrix, f1_score, accuracy_score\n",
        "confusion_matrix(y_test, y_pred_rf)"
      ],
      "metadata": {
        "colab": {
          "base_uri": "https://localhost:8080/"
        },
        "id": "UAsYAbkHes4R",
        "outputId": "0b8d7578-7d3d-41c0-fa59-f82bacd88854"
      },
      "execution_count": 27,
      "outputs": [
        {
          "output_type": "execute_result",
          "data": {
            "text/plain": [
              "array([[15,  0,  0],\n",
              "       [ 0, 16,  2],\n",
              "       [ 0,  0, 17]])"
            ]
          },
          "metadata": {},
          "execution_count": 27
        }
      ]
    },
    {
      "cell_type": "code",
      "source": [
        "accuracy_score(y_test, y_pred_rf)"
      ],
      "metadata": {
        "colab": {
          "base_uri": "https://localhost:8080/"
        },
        "id": "NDG4XE6SgYdn",
        "outputId": "908f1c1e-a9ab-4f7a-aefd-e3ed4f2778e5"
      },
      "execution_count": 28,
      "outputs": [
        {
          "output_type": "execute_result",
          "data": {
            "text/plain": [
              "0.96"
            ]
          },
          "metadata": {},
          "execution_count": 28
        }
      ]
    }
  ]
}